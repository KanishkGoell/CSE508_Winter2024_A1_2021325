{
 "cells": [
  {
   "cell_type": "code",
   "execution_count": null,
   "metadata": {},
   "outputs": [],
   "source": [
    "import os\n",
    "import pickle\n",
    "\n",
    "# Define the directory containing your preprocessed text files\n",
    "preprocessed_directory = \"preprocessed_files\"\n",
    "\n",
    "# Initialize an empty positional index\n",
    "positional_index = {}\n",
    "\n",
    "# Populate the positional index\n",
    "for filename in os.listdir(preprocessed_directory):\n",
    "    filepath = os.path.join(preprocessed_directory, filename)\n",
    "    with open(filepath, 'r', encoding='utf-8') as file:\n",
    "        words = file.read().split()\n",
    "        for position, word in enumerate(words):\n",
    "            if word not in positional_index:\n",
    "                positional_index[word] = {}\n",
    "            if filename not in positional_index[word]:\n",
    "                positional_index[word][filename] = []\n",
    "            positional_index[word][filename].append(position)\n",
    "\n",
    "# Save the positional index using pickle\n",
    "with open('positional_index.pkl', 'wb') as f:\n",
    "    pickle.dump(positional_index, f)\n"
   ]
  },
  {
   "cell_type": "code",
   "execution_count": null,
   "metadata": {},
   "outputs": [],
   "source": [
    "# Load the positional index\n",
    "with open('positional_index.pkl', 'rb') as f:\n",
    "    loaded_positional_index = pickle.load(f)\n"
   ]
  },
  {
   "cell_type": "code",
   "execution_count": null,
   "metadata": {},
   "outputs": [
    {
     "name": "stdout",
     "output_type": "stream",
     "text": [
      "Number of documents retrieved for query 1 using positional index: 0\n",
      "No documents retrieved for this query using positional index.\n",
      "\n",
      "Number of documents retrieved for query 2 using positional index: 0\n",
      "No documents retrieved for this query using positional index.\n",
      "\n"
     ]
    }
   ],
   "source": [
    "def find_phrase_in_index(phrase, positional_index):\n",
    "    words = phrase.lower().split()  # Assuming simple lowercase conversion for preprocessing\n",
    "    if not words:\n",
    "        return []\n",
    "    \n",
    "    # Start with the list of documents for the first word\n",
    "    if words[0] not in positional_index:\n",
    "        return []\n",
    "    common_docs = set(positional_index[words[0]].keys())\n",
    "    for word in words[1:]:\n",
    "        if word not in positional_index:\n",
    "            return []\n",
    "        docs_with_word = set(positional_index[word].keys())\n",
    "        common_docs = common_docs.intersection(docs_with_word)\n",
    "    \n",
    "    # For each document, check if words appear in sequence\n",
    "    valid_docs = []\n",
    "    for doc in common_docs:\n",
    "        positions = [positional_index[word][doc] for word in words]\n",
    "        for pos in positions[0]:\n",
    "            if all((pos + i) in positions[i] for i in range(1, len(words))):\n",
    "                valid_docs.append(doc)\n",
    "                break\n",
    "    \n",
    "    return valid_docs\n",
    "\n",
    "# Sample input (for demonstration)\n",
    "N = 2\n",
    "queries = [\n",
    "    \"Car bag in a canister\",\n",
    "    \"Coffee brewing techniques in cookbook\"\n",
    "]\n",
    "\n",
    "# Process each query and print results\n",
    "for i, query in enumerate(queries, start=1):\n",
    "    result_docs = find_phrase_in_index(query, loaded_positional_index)\n",
    "    print(f\"Number of documents retrieved for query {i} using positional index: {len(result_docs)}\")\n",
    "    if result_docs:\n",
    "        print(f\"Names of documents retrieved for query {i} using positional index: {', '.join(result_docs)}\")\n",
    "    else:\n",
    "        print(\"No documents retrieved for this query using positional index.\")\n",
    "    print()  # For better readability between queries\n"
   ]
  }
 ],
 "metadata": {
  "language_info": {
   "name": "python"
  }
 },
 "nbformat": 4,
 "nbformat_minor": 2
}
