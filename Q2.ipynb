{
 "cells": [
  {
   "cell_type": "markdown",
   "metadata": {},
   "source": [
    "# Step 1: Create a Unigram Inverted Index"
   ]
  },
  {
   "cell_type": "code",
   "execution_count": 3,
   "metadata": {},
   "outputs": [],
   "source": [
    "import os\n",
    "import pickle\n",
    "\n",
    "# Assuming 'directory' contains the preprocessed files\n",
    "preprocessed_directory = \"preprocessed_files\"\n",
    "\n",
    "# Initialize an empty inverted index\n",
    "inverted_index = {}\n",
    "\n",
    "# Populate the inverted index\n",
    "for filename in os.listdir(preprocessed_directory):\n",
    "    filepath = os.path.join(preprocessed_directory, filename)\n",
    "    with open(filepath, 'r', encoding='utf-8') as file:\n",
    "        for word in file.read().split():\n",
    "            if word in inverted_index:\n",
    "                inverted_index[word].add(filename)\n",
    "            else:\n",
    "                inverted_index[word] = {filename}\n",
    "\n",
    "# Save the inverted index using pickle\n",
    "with open('inverted_index.pkl', 'wb') as f:\n",
    "    pickle.dump(inverted_index, f)\n"
   ]
  },
  {
   "cell_type": "markdown",
   "metadata": {},
   "source": [
    "# Step 2: Load the Inverted Index"
   ]
  },
  {
   "cell_type": "code",
   "execution_count": 4,
   "metadata": {},
   "outputs": [],
   "source": [
    "# Load the inverted index\n",
    "with open('inverted_index.pkl', 'rb') as f:\n",
    "    loaded_inverted_index = pickle.load(f)\n",
    "\n"
   ]
  },
  {
   "cell_type": "markdown",
   "metadata": {},
   "source": [
    "# Step 3: Define Boolean Query Operations\n"
   ]
  },
  {
   "cell_type": "code",
   "execution_count": 5,
   "metadata": {},
   "outputs": [],
   "source": [
    "def perform_and(set1, set2):\n",
    "    return set1.intersection(set2)\n",
    "\n",
    "def perform_or(set1, set2):\n",
    "    return set1.union(set2)\n",
    "\n",
    "def perform_and_not(set1, set2):\n",
    "    return set1 - set2\n",
    "\n",
    "def perform_or_not(set1, set2, all_docs):\n",
    "    return set1.union(all_docs - set2)\n",
    "\n",
    "# Helper function to get all document names\n",
    "def get_all_document_names(directory):\n",
    "    return set(os.listdir(directory))\n"
   ]
  },
  {
   "cell_type": "markdown",
   "metadata": {},
   "source": [
    "# Step 4: Process Queries"
   ]
  },
  {
   "cell_type": "code",
   "execution_count": 16,
   "metadata": {},
   "outputs": [
    {
     "name": "stdout",
     "output_type": "stream",
     "text": [
      "Query 1: acoustic OR NOT guitar\n",
      "Number of documents retrieved for query 1: 784\n",
      "Names of the documents retrieved for query 1: preprocessed_file407.txt, preprocessed_file949.txt, preprocessed_file115.txt, preprocessed_file78.txt, preprocessed_file200.txt, preprocessed_file389.txt, preprocessed_file212.txt, preprocessed_file134.txt, preprocessed_file673.txt, preprocessed_file206.txt, preprocessed_file348.txt, preprocessed_file761.txt, preprocessed_file133.txt, preprocessed_file197.txt, preprocessed_file419.txt, preprocessed_file270.txt, preprocessed_file672.txt, preprocessed_file953.txt, preprocessed_file606.txt, preprocessed_file937.txt, preprocessed_file747.txt, preprocessed_file443.txt, preprocessed_file293.txt, preprocessed_file80.txt, preprocessed_file466.txt, preprocessed_file275.txt, preprocessed_file84.txt, preprocessed_file997.txt, preprocessed_file33.txt, preprocessed_file751.txt, preprocessed_file952.txt, preprocessed_file859.txt, preprocessed_file850.txt, preprocessed_file533.txt, preprocessed_file586.txt, preprocessed_file385.txt, preprocessed_file458.txt, preprocessed_file267.txt, preprocessed_file136.txt, preprocessed_file892.txt, preprocessed_file568.txt, preprocessed_file785.txt, preprocessed_file696.txt, preprocessed_file637.txt, preprocessed_file808.txt, preprocessed_file705.txt, preprocessed_file797.txt, preprocessed_file657.txt, preprocessed_file584.txt, preprocessed_file715.txt, preprocessed_file117.txt, preprocessed_file43.txt, preprocessed_file768.txt, preprocessed_file141.txt, preprocessed_file56.txt, preprocessed_file601.txt, preprocessed_file730.txt, preprocessed_file433.txt, preprocessed_file149.txt, preprocessed_file566.txt, preprocessed_file111.txt, preprocessed_file339.txt, preprocessed_file846.txt, preprocessed_file556.txt, preprocessed_file132.txt, preprocessed_file955.txt, preprocessed_file845.txt, preprocessed_file369.txt, preprocessed_file890.txt, preprocessed_file124.txt, preprocessed_file403.txt, preprocessed_file661.txt, preprocessed_file259.txt, preprocessed_file329.txt, preprocessed_file511.txt, preprocessed_file624.txt, preprocessed_file145.txt, preprocessed_file333.txt, preprocessed_file977.txt, preprocessed_file173.txt, preprocessed_file139.txt, preprocessed_file537.txt, preprocessed_file834.txt, preprocessed_file689.txt, preprocessed_file596.txt, preprocessed_file826.txt, preprocessed_file20.txt, preprocessed_file863.txt, preprocessed_file946.txt, preprocessed_file549.txt, preprocessed_file925.txt, preprocessed_file424.txt, preprocessed_file502.txt, preprocessed_file199.txt, preprocessed_file475.txt, preprocessed_file250.txt, preprocessed_file836.txt, preprocessed_file932.txt, preprocessed_file915.txt, preprocessed_file764.txt, preprocessed_file602.txt, preprocessed_file922.txt, preprocessed_file877.txt, preprocessed_file123.txt, preprocessed_file719.txt, preprocessed_file578.txt, preprocessed_file926.txt, preprocessed_file599.txt, preprocessed_file994.txt, preprocessed_file901.txt, preprocessed_file346.txt, preprocessed_file876.txt, preprocessed_file337.txt, preprocessed_file732.txt, preprocessed_file679.txt, preprocessed_file662.txt, preprocessed_file22.txt, preprocessed_file800.txt, preprocessed_file550.txt, preprocessed_file171.txt, preprocessed_file21.txt, preprocessed_file402.txt, preprocessed_file406.txt, preprocessed_file240.txt, preprocessed_file461.txt, preprocessed_file367.txt, preprocessed_file113.txt, preprocessed_file587.txt, preprocessed_file852.txt, preprocessed_file478.txt, preprocessed_file909.txt, preprocessed_file224.txt, preprocessed_file363.txt, preprocessed_file617.txt, preprocessed_file266.txt, preprocessed_file770.txt, preprocessed_file434.txt, preprocessed_file940.txt, preprocessed_file280.txt, preprocessed_file740.txt, preprocessed_file252.txt, preprocessed_file517.txt, preprocessed_file392.txt, preprocessed_file247.txt, preprocessed_file228.txt, preprocessed_file563.txt, preprocessed_file742.txt, preprocessed_file226.txt, preprocessed_file860.txt, preprocessed_file554.txt, preprocessed_file4.txt, preprocessed_file619.txt, preprocessed_file38.txt, preprocessed_file421.txt, preprocessed_file960.txt, preprocessed_file81.txt, preprocessed_file289.txt, preprocessed_file731.txt, preprocessed_file971.txt, preprocessed_file881.txt, preprocessed_file497.txt, preprocessed_file1.txt, preprocessed_file631.txt, preprocessed_file163.txt, preprocessed_file19.txt, preprocessed_file810.txt, preprocessed_file500.txt, preprocessed_file102.txt, preprocessed_file658.txt, preprocessed_file581.txt, preprocessed_file803.txt, preprocessed_file943.txt, preprocessed_file219.txt, preprocessed_file987.txt, preprocessed_file964.txt, preprocessed_file296.txt, preprocessed_file323.txt, preprocessed_file357.txt, preprocessed_file603.txt, preprocessed_file456.txt, preprocessed_file170.txt, preprocessed_file644.txt, preprocessed_file261.txt, preprocessed_file300.txt, preprocessed_file638.txt, preprocessed_file242.txt, preprocessed_file625.txt, preprocessed_file398.txt, preprocessed_file490.txt, preprocessed_file676.txt, preprocessed_file351.txt, preprocessed_file690.txt, preprocessed_file157.txt, preprocessed_file452.txt, preprocessed_file365.txt, preprocessed_file51.txt, preprocessed_file334.txt, preprocessed_file45.txt, preprocessed_file177.txt, preprocessed_file965.txt, preprocessed_file378.txt, preprocessed_file119.txt, preprocessed_file468.txt, preprocessed_file432.txt, preprocessed_file792.txt, preprocessed_file984.txt, preprocessed_file463.txt, preprocessed_file40.txt, preprocessed_file855.txt, preprocessed_file302.txt, preprocessed_file778.txt, preprocessed_file685.txt, preprocessed_file410.txt, preprocessed_file15.txt, preprocessed_file885.txt, preprocessed_file444.txt, preprocessed_file328.txt, preprocessed_file101.txt, preprocessed_file205.txt, preprocessed_file564.txt, preprocessed_file634.txt, preprocessed_file97.txt, preprocessed_file896.txt, preprocessed_file288.txt, preprocessed_file301.txt, preprocessed_file316.txt, preprocessed_file91.txt, preprocessed_file630.txt, preprocessed_file217.txt, preprocessed_file437.txt, preprocessed_file939.txt, preprocessed_file297.txt, preprocessed_file147.txt, preprocessed_file493.txt, preprocessed_file165.txt, preprocessed_file494.txt, preprocessed_file70.txt, preprocessed_file668.txt, preprocessed_file211.txt, preprocessed_file880.txt, preprocessed_file560.txt, preprocessed_file325.txt, preprocessed_file441.txt, preprocessed_file69.txt, preprocessed_file929.txt, preprocessed_file610.txt, preprocessed_file992.txt, preprocessed_file62.txt, preprocessed_file706.txt, preprocessed_file411.txt, preprocessed_file645.txt, preprocessed_file665.txt, preprocessed_file237.txt, preprocessed_file214.txt, preprocessed_file546.txt, preprocessed_file646.txt, preprocessed_file409.txt, preprocessed_file784.txt, preprocessed_file290.txt, preprocessed_file722.txt, preprocessed_file285.txt, preprocessed_file453.txt, preprocessed_file773.txt, preprocessed_file916.txt, preprocessed_file330.txt, preprocessed_file954.txt, preprocessed_file167.txt, preprocessed_file990.txt, preprocessed_file980.txt, preprocessed_file891.txt, preprocessed_file948.txt, preprocessed_file88.txt, preprocessed_file427.txt, preprocessed_file814.txt, preprocessed_file707.txt, preprocessed_file969.txt, preprocessed_file454.txt, preprocessed_file29.txt, preprocessed_file222.txt, preprocessed_file748.txt, preprocessed_file869.txt, preprocessed_file868.txt, preprocessed_file272.txt, preprocessed_file941.txt, preprocessed_file660.txt, preprocessed_file793.txt, preprocessed_file713.txt, preprocessed_file178.txt, preprocessed_file843.txt, preprocessed_file391.txt, preprocessed_file875.txt, preprocessed_file16.txt, preprocessed_file667.txt, preprocessed_file518.txt, preprocessed_file844.txt, preprocessed_file536.txt, preprocessed_file467.txt, preprocessed_file3.txt, preprocessed_file709.txt, preprocessed_file898.txt, preprocessed_file882.txt, preprocessed_file181.txt, preprocessed_file632.txt, preprocessed_file823.txt, preprocessed_file313.txt, preprocessed_file600.txt, preprocessed_file430.txt, preprocessed_file828.txt, preprocessed_file680.txt, preprocessed_file833.txt, preprocessed_file816.txt, preprocessed_file66.txt, preprocessed_file350.txt, preprocessed_file249.txt, preprocessed_file861.txt, preprocessed_file436.txt, preprocessed_file260.txt, preprocessed_file643.txt, preprocessed_file12.txt, preprocessed_file487.txt, preprocessed_file820.txt, preprocessed_file99.txt, preprocessed_file913.txt, preprocessed_file366.txt, preprocessed_file839.txt, preprocessed_file232.txt, preprocessed_file557.txt, preprocessed_file185.txt, preprocessed_file438.txt, preprocessed_file827.txt, preprocessed_file160.txt, preprocessed_file26.txt, preprocessed_file435.txt, preprocessed_file605.txt, preprocessed_file283.txt, preprocessed_file831.txt, preprocessed_file36.txt, preprocessed_file506.txt, preprocessed_file159.txt, preprocessed_file520.txt, preprocessed_file57.txt, preprocessed_file287.txt, preprocessed_file687.txt, preprocessed_file513.txt, preprocessed_file561.txt, preprocessed_file562.txt, preprocessed_file818.txt, preprocessed_file991.txt, preprocessed_file663.txt, preprocessed_file504.txt, preprocessed_file650.txt, preprocessed_file8.txt, preprocessed_file429.txt, preprocessed_file44.txt, preprocessed_file264.txt, preprocessed_file968.txt, preprocessed_file920.txt, preprocessed_file635.txt, preprocessed_file13.txt, preprocessed_file590.txt, preprocessed_file956.txt, preprocessed_file904.txt, preprocessed_file575.txt, preprocessed_file895.txt, preprocessed_file169.txt, preprocessed_file908.txt, preprocessed_file318.txt, preprocessed_file201.txt, preprocessed_file186.txt, preprocessed_file725.txt, preprocessed_file812.txt, preprocessed_file347.txt, preprocessed_file143.txt, preprocessed_file886.txt, preprocessed_file488.txt, preprocessed_file307.txt, preprocessed_file507.txt, preprocessed_file684.txt, preprocessed_file65.txt, preprocessed_file269.txt, preprocessed_file482.txt, preprocessed_file60.txt, preprocessed_file700.txt, preprocessed_file692.txt, preprocessed_file274.txt, preprocessed_file865.txt, preprocessed_file35.txt, preprocessed_file417.txt, preprocessed_file733.txt, preprocessed_file739.txt, preprocessed_file79.txt, preprocessed_file595.txt, preprocessed_file938.txt, preprocessed_file887.txt, preprocessed_file694.txt, preprocessed_file905.txt, preprocessed_file382.txt, preprocessed_file976.txt, preprocessed_file446.txt, preprocessed_file528.txt, preprocessed_file753.txt, preprocessed_file611.txt, preprocessed_file693.txt, preprocessed_file74.txt, preprocessed_file789.txt, preprocessed_file187.txt, preprocessed_file320.txt, preprocessed_file767.txt, preprocessed_file870.txt, preprocessed_file545.txt, preprocessed_file306.txt, preprocessed_file397.txt, preprocessed_file824.txt, preprocessed_file299.txt, preprocessed_file376.txt, preprocessed_file72.txt, preprocessed_file717.txt, preprocessed_file218.txt, preprocessed_file775.txt, preprocessed_file499.txt, preprocessed_file338.txt, preprocessed_file509.txt, preprocessed_file534.txt, preprocessed_file906.txt, preprocessed_file945.txt, preprocessed_file93.txt, preprocessed_file505.txt, preprocessed_file961.txt, preprocessed_file276.txt, preprocessed_file375.txt, preprocessed_file950.txt, preprocessed_file440.txt, preprocessed_file535.txt, preprocessed_file779.txt, preprocessed_file415.txt, preprocessed_file450.txt, preprocessed_file996.txt, preprocessed_file108.txt, preprocessed_file636.txt, preprocessed_file786.txt, preprocessed_file532.txt, preprocessed_file135.txt, preprocessed_file414.txt, preprocessed_file531.txt, preprocessed_file120.txt, preprocessed_file618.txt, preprocessed_file766.txt, preprocessed_file510.txt, preprocessed_file912.txt, preprocessed_file184.txt, preprocessed_file807.txt, preprocessed_file128.txt, preprocessed_file23.txt, preprocessed_file724.txt, preprocessed_file92.txt, preprocessed_file360.txt, preprocessed_file647.txt, preprocessed_file384.txt, preprocessed_file577.txt, preprocessed_file958.txt, preprocessed_file279.txt, preprocessed_file46.txt, preprocessed_file284.txt, preprocessed_file522.txt, preprocessed_file95.txt, preprocessed_file83.txt, preprocessed_file720.txt, preprocessed_file710.txt, preprocessed_file423.txt, preprocessed_file127.txt, preprocessed_file598.txt, preprocessed_file176.txt, preprocessed_file109.txt, preprocessed_file790.txt, preprocessed_file970.txt, preprocessed_file48.txt, preprocessed_file516.txt, preprocessed_file757.txt, preprocessed_file866.txt, preprocessed_file52.txt, preprocessed_file708.txt, preprocessed_file473.txt, preprocessed_file538.txt, preprocessed_file583.txt, preprocessed_file683.txt, preprocessed_file849.txt, preprocessed_file627.txt, preprocessed_file944.txt, preprocessed_file263.txt, preprocessed_file189.txt, preprocessed_file763.txt, preprocessed_file439.txt, preprocessed_file474.txt, preprocessed_file884.txt, preprocessed_file343.txt, preprocessed_file234.txt, preprocessed_file248.txt, preprocessed_file981.txt, preprocessed_file931.txt, preprocessed_file336.txt, preprocessed_file25.txt, preprocessed_file628.txt, preprocessed_file655.txt, preprocessed_file755.txt, preprocessed_file682.txt, preprocessed_file888.txt, preprocessed_file75.txt, preprocessed_file262.txt, preprocessed_file180.txt, preprocessed_file76.txt, preprocessed_file465.txt, preprocessed_file362.txt, preprocessed_file220.txt, preprocessed_file388.txt, preprocessed_file608.txt, preprocessed_file216.txt, preprocessed_file257.txt, preprocessed_file359.txt, preprocessed_file138.txt, preprocessed_file142.txt, preprocessed_file783.txt, preprocessed_file862.txt, preprocessed_file718.txt, preprocessed_file714.txt, preprocessed_file817.txt, preprocessed_file418.txt, preprocessed_file335.txt, preprocessed_file112.txt, preprocessed_file917.txt, preprocessed_file527.txt, preprocessed_file983.txt, preprocessed_file677.txt, preprocessed_file701.txt, preprocessed_file745.txt, preprocessed_file787.txt, preprocessed_file806.txt, preprocessed_file258.txt, preprocessed_file551.txt, preprocessed_file975.txt, preprocessed_file491.txt, preprocessed_file308.txt, preprocessed_file515.txt, preprocessed_file146.txt, preprocessed_file55.txt, preprocessed_file331.txt, preprocessed_file188.txt, preprocessed_file759.txt, preprocessed_file851.txt, preprocessed_file648.txt, preprocessed_file459.txt, preprocessed_file341.txt, preprocessed_file911.txt, preprocessed_file480.txt, preprocessed_file126.txt, preprocessed_file94.txt, preprocessed_file928.txt, preprocessed_file910.txt, preprocessed_file728.txt, preprocessed_file231.txt, preprocessed_file286.txt, preprocessed_file381.txt, preprocessed_file585.txt, preprocessed_file530.txt, preprocessed_file225.txt, preprocessed_file383.txt, preprocessed_file811.txt, preprocessed_file125.txt, preprocessed_file951.txt, preprocessed_file6.txt, preprocessed_file616.txt, preprocessed_file765.txt, preprocessed_file213.txt, preprocessed_file340.txt, preprocessed_file305.txt, preprocessed_file192.txt, preprocessed_file963.txt, preprocessed_file14.txt, preprocessed_file592.txt, preprocessed_file354.txt, preprocessed_file776.txt, preprocessed_file613.txt, preprocessed_file935.txt, preprocessed_file344.txt, preprocessed_file370.txt, preprocessed_file815.txt, preprocessed_file856.txt, preprocessed_file34.txt, preprocessed_file832.txt, preprocessed_file377.txt, preprocessed_file842.txt, preprocessed_file703.txt, preprocessed_file317.txt, preprocessed_file30.txt, preprocessed_file567.txt, preprocessed_file255.txt, preprocessed_file758.txt, preprocessed_file712.txt, preprocessed_file312.txt, preprocessed_file512.txt, preprocessed_file735.txt, preprocessed_file857.txt, preprocessed_file697.txt, preprocessed_file642.txt, preprocessed_file321.txt, preprocessed_file442.txt, preprocessed_file576.txt, preprocessed_file282.txt, preprocessed_file622.txt, preprocessed_file426.txt, preprocessed_file553.txt, preprocessed_file477.txt, preprocessed_file702.txt, preprocessed_file315.txt, preprocessed_file481.txt, preprocessed_file41.txt, preprocessed_file526.txt, preprocessed_file914.txt, preprocessed_file664.txt, preprocessed_file67.txt, preprocessed_file774.txt, preprocessed_file746.txt, preprocessed_file223.txt, preprocessed_file281.txt, preprocessed_file37.txt, preprocessed_file654.txt, preprocessed_file445.txt, preprocessed_file492.txt, preprocessed_file794.txt, preprocessed_file678.txt, preprocessed_file795.txt, preprocessed_file204.txt, preprocessed_file615.txt, preprocessed_file476.txt, preprocessed_file607.txt, preprocessed_file460.txt, preprocessed_file813.txt, preprocessed_file495.txt, preprocessed_file565.txt, preprocessed_file207.txt, preprocessed_file686.txt, preprocessed_file5.txt, preprocessed_file345.txt, preprocessed_file666.txt, preprocessed_file614.txt, preprocessed_file503.txt, preprocessed_file716.txt, preprocessed_file9.txt, preprocessed_file64.txt, preprocessed_file781.txt, preprocessed_file974.txt, preprocessed_file772.txt, preprocessed_file621.txt, preprocessed_file942.txt, preprocessed_file208.txt, preprocessed_file918.txt, preprocessed_file570.txt, preprocessed_file874.txt, preprocessed_file202.txt, preprocessed_file17.txt, preprocessed_file878.txt, preprocessed_file246.txt, preprocessed_file830.txt, preprocessed_file394.txt, preprocessed_file105.txt, preprocessed_file501.txt, preprocessed_file847.txt, preprocessed_file580.txt, preprocessed_file883.txt, preprocessed_file89.txt, preprocessed_file523.txt, preprocessed_file416.txt, preprocessed_file574.txt, preprocessed_file897.txt, preprocessed_file837.txt, preprocessed_file486.txt, preprocessed_file988.txt, preprocessed_file371.txt, preprocessed_file727.txt, preprocessed_file711.txt, preprocessed_file871.txt, preprocessed_file404.txt, preprocessed_file736.txt, preprocessed_file769.txt, preprocessed_file726.txt, preprocessed_file172.txt, preprocessed_file164.txt, preprocessed_file947.txt, preprocessed_file872.txt, preprocessed_file85.txt, preprocessed_file699.txt, preprocessed_file659.txt, preprocessed_file295.txt, preprocessed_file967.txt, preprocessed_file822.txt, preprocessed_file651.txt, preprocessed_file148.txt, preprocessed_file979.txt, preprocessed_file848.txt, preprocessed_file760.txt, preprocessed_file451.txt, preprocessed_file243.txt, preprocessed_file675.txt, preprocessed_file723.txt, preprocessed_file292.txt, preprocessed_file137.txt, preprocessed_file548.txt, preprocessed_file921.txt, preprocessed_file298.txt, preprocessed_file698.txt, preprocessed_file498.txt, preprocessed_file191.txt, preprocessed_file194.txt, preprocessed_file230.txt, preprocessed_file572.txt, preprocessed_file995.txt, preprocessed_file582.txt, preprocessed_file162.txt, preprocessed_file449.txt, preprocessed_file372.txt, preprocessed_file393.txt, preprocessed_file193.txt, preprocessed_file47.txt, preprocessed_file471.txt, preprocessed_file244.txt, preprocessed_file198.txt, preprocessed_file985.txt, preprocessed_file555.txt, preprocessed_file521.txt, preprocessed_file236.txt, preprocessed_file447.txt, preprocessed_file154.txt, preprocessed_file825.txt, preprocessed_file539.txt, preprocessed_file233.txt, preprocessed_file209.txt, preprocessed_file153.txt, preprocessed_file496.txt, preprocessed_file529.txt, preprocessed_file640.txt, preprocessed_file190.txt, preprocessed_file203.txt, preprocessed_file273.txt, preprocessed_file304.txt, preprocessed_file594.txt, preprocessed_file294.txt, preprocessed_file352.txt, preprocessed_file364.txt, preprocessed_file82.txt, preprocessed_file829.txt, preprocessed_file53.txt, preprocessed_file251.txt, preprocessed_file752.txt, preprocessed_file930.txt, preprocessed_file485.txt, preprocessed_file756.txt, preprocessed_file332.txt, preprocessed_file103.txt, preprocessed_file858.txt, preprocessed_file799.txt, preprocessed_file681.txt, preprocessed_file543.txt, preprocessed_file27.txt, preprocessed_file408.txt, preprocessed_file129.txt, preprocessed_file140.txt, preprocessed_file907.txt, preprocessed_file999.txt, preprocessed_file771.txt, preprocessed_file573.txt, preprocessed_file579.txt, preprocessed_file738.txt, preprocessed_file319.txt, preprocessed_file809.txt, preprocessed_file256.txt, preprocessed_file653.txt, preprocessed_file455.txt, preprocessed_file919.txt, preprocessed_file179.txt, preprocessed_file390.txt, preprocessed_file342.txt, preprocessed_file597.txt, preprocessed_file788.txt, preprocessed_file448.txt, preprocessed_file959.txt\n",
      "\n"
     ]
    }
   ],
   "source": [
    "def process_query(query, operations, all_docs, inverted_index):\n",
    "    # Preprocess and tokenize the query\n",
    "    preprocessed_query = query.lower()  # Assuming simple lowercase conversion for demo\n",
    "    tokens = preprocessed_query.split()  # This would ideally use the same preprocessing as your documents\n",
    "    \n",
    "    # Create a formatted query for output\n",
    "    formatted_query = \"\"\n",
    "    for i, token in enumerate(tokens):\n",
    "        formatted_query += token\n",
    "        if i < len(operations):\n",
    "            formatted_query += \" \" + operations[i] + \" \"\n",
    "    \n",
    "    # Convert tokens to their document sets\n",
    "    query_sets = [inverted_index.get(token, set()) for token in tokens]\n",
    "    \n",
    "    # Initialize the result set based on the first token's document set\n",
    "    result_set = query_sets[0] if query_sets else set()\n",
    "    \n",
    "    # Apply operations with subsequent tokens\n",
    "    for op, next_set in zip(operations, query_sets[1:]):\n",
    "        if op.strip() == \"AND\":\n",
    "            result_set = perform_and(result_set, next_set)\n",
    "        elif op.strip() == \"OR\":\n",
    "            result_set = perform_or(result_set, next_set)\n",
    "        elif op.strip() == \"AND NOT\":\n",
    "            result_set = perform_and_not(result_set, next_set)\n",
    "        elif op.strip() == \"OR NOT\":\n",
    "            result_set = perform_or_not(result_set, next_set, all_docs)\n",
    "            \n",
    "    return formatted_query, result_set\n",
    "\n",
    "# Example static input structure for demonstration\n",
    "N = int(input(\"Enter the number of queries: \"))\n",
    "queries = []\n",
    "operations_list = []\n",
    "\n",
    "for i in range(N):\n",
    "    query = input(f\"Enter query {i+1}: \")\n",
    "    operations = input(\"Enter operations separated by commas (e.g., AND,OR NOT): \").split(', ')\n",
    "    queries.append(query)\n",
    "    operations_list.append(operations)\n",
    "\n",
    "all_docs = set(get_all_document_names(preprocessed_directory))\n",
    "\n",
    "for i, (query, operations) in enumerate(zip(queries, operations_list), start=1):\n",
    "    formatted_query, result_docs = process_query(query, operations, all_docs, loaded_inverted_index)\n",
    "    print(f\"Query {i}: {formatted_query}\")\n",
    "    print(f\"Number of documents retrieved for query {i}: {len(set(result_docs))}\")\n",
    "    if result_docs:\n",
    "        print(f\"Names of the documents retrieved for query {i}: {', '.join(result_docs)}\\n\")\n",
    "    else:\n",
    "        print(\"No documents retrieved for this query.\\n\")\n",
    "\n",
    "\n",
    "\n"
   ]
  }
 ],
 "metadata": {
  "kernelspec": {
   "display_name": "Python 3",
   "language": "python",
   "name": "python3"
  },
  "language_info": {
   "codemirror_mode": {
    "name": "ipython",
    "version": 3
   },
   "file_extension": ".py",
   "mimetype": "text/x-python",
   "name": "python",
   "nbconvert_exporter": "python",
   "pygments_lexer": "ipython3",
   "version": "3.11.5"
  }
 },
 "nbformat": 4,
 "nbformat_minor": 2
}
